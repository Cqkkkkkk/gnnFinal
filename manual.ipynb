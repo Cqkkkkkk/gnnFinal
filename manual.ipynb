{
 "cells": [
  {
   "cell_type": "code",
   "execution_count": 1,
   "metadata": {},
   "outputs": [
    {
     "name": "stdout",
     "output_type": "stream",
     "text": [
      "Best model in 9 estimated configs: fb-mit-8.yaml.txt\n",
      "Macro F1: 73.33 +- 2.2\n",
      "Micro F1: 76.3 +- 1.74\n"
     ]
    }
   ],
   "source": [
    "import os\n",
    "import re\n",
    "from config import cfg\n",
    "\n",
    "result_dir = 'search-results'\n",
    "cfg_dir = 'configs/search'\n",
    "best_name = ''\n",
    "best_macro = 0\n",
    "best_macro_std = 0\n",
    "correspond_micro = 0\n",
    "correspond_micro_std = 0\n",
    "cnt = 0\n",
    "\n",
    "best_selective_macro = 0\n",
    "best_selective_name = 0\n",
    "for file_name in os.listdir(result_dir):\n",
    "    config_path = os.path.join(cfg_dir, file_name[:-4])\n",
    "    cfg.merge_from_file(config_path)\n",
    "    file_path = os.path.join(result_dir, file_name)\n",
    "    with open(file_path, 'r') as f:\n",
    "        lines = f.readlines()\n",
    "        if len(lines) < 2:\n",
    "            continue\n",
    "        line_macro = lines[-2]\n",
    "        line_micro = lines[-1]\n",
    "        cnt += 1\n",
    "        if line_macro.find('Macro') == -1 or line_micro.find('Micro') == -1:\n",
    "            continue\n",
    "\n",
    "        macro_mean, macro_std = float(line_macro[16:22]), float(line_macro[26:32])\n",
    "        micro_mean, micro_std = float(line_micro[16:22]), float(line_micro[26:32])\n",
    "        # if cfg.model.selective == True:\n",
    "        #     if best_selective_macro < macro_mean:\n",
    "        #         best_name = file_name\n",
    "        #         best_macro = macro_mean\n",
    "        #         best_macro_std = macro_std\n",
    "        #         correspond_micro = micro_mean\n",
    "        #         correspond_micro_std = micro_std\n",
    "        \n",
    "        if best_macro < macro_mean:\n",
    "            best_name = file_name\n",
    "            best_macro = macro_mean\n",
    "            best_macro_std = macro_std\n",
    "            correspond_micro = micro_mean\n",
    "            correspond_micro_std = micro_std\n",
    "\n",
    "print(f'Best model in {cnt} estimated configs: {best_name}')\n",
    "print(f'Macro F1: {best_macro} +- {best_macro_std}')\n",
    "print(f'Micro F1: {correspond_micro} +- {correspond_micro_std}')\n",
    "        \n"
   ]
  },
  {
   "cell_type": "code",
   "execution_count": 15,
   "metadata": {},
   "outputs": [],
   "source": [
    "import matplotlib.pyplot as plt\n",
    "import numpy as np\n",
    "import scipy.stats\n",
    "\n",
    "\n",
    "def calculate_mean_sem(data, axis=0):\n",
    "    \"\"\"Calculate the mean and standard error of the mean for each epoch and variable.\"\"\"\n",
    "    means = np.mean(data, axis=axis)\n",
    "    sems = np.array([scipy.stats.sem(data[:, i]) for i in range(data.shape[1])])\n",
    "    return means, sems\n",
    "\n",
    "def calculate_confidence_interval(mean, sem, confidence_level=1.96):\n",
    "    \"\"\"Calculate the 95% confidence interval.\"\"\"\n",
    "    ci = sem * confidence_level\n",
    "    lower_bound = mean - ci\n",
    "    upper_bound = mean + ci\n",
    "    return lower_bound, upper_bound\n",
    "\n",
    "#"
   ]
  },
  {
   "cell_type": "code",
   "execution_count": 18,
   "metadata": {},
   "outputs": [
    {
     "data": {
      "text/plain": [
       "<Figure size 640x480 with 0 Axes>"
      ]
     },
     "metadata": {},
     "output_type": "display_data"
    }
   ],
   "source": [
    "gammas = np.load('plots/raw/actor_gammas.npy', allow_pickle=True).item()\n",
    "colors = ['#f0c38e', '#6E85B2', '#f38181']\n",
    "\n",
    "for key, data in gammas.items():\n",
    "    lambda_names = key.split('-')\n",
    "    # Calculate means and SEMs\n",
    "    means, sems = calculate_mean_sem(data, axis=0)\n",
    "\n",
    "    # Calculate confidence intervals\n",
    "    lower_bounds, upper_bounds = calculate_confidence_interval(means, sems)\n",
    "\n",
    "    epochs = np.arange(means.shape[0])\n",
    "    plt.clf()\n",
    "    plt.figure(figsize=(8, 3))\n",
    "    for i in range(means.shape[1]):\n",
    "        plt.plot(epochs, means[:, i], label=f'{lambda_names[i]}_{i}', color=colors[i])\n",
    "        plt.fill_between(epochs, lower_bounds[:, i], upper_bounds[:, i], alpha=0.15, color=colors[i])\n",
    "\n",
    "        plt.title(f'{key}')\n",
    "        plt.legend()\n",
    "    plt.tight_layout()\n",
    "    plt.savefig(f'./plots/actor/{key}.png', dpi=300)\n",
    "    plt.close()"
   ]
  },
  {
   "cell_type": "code",
   "execution_count": 14,
   "metadata": {},
   "outputs": [
    {
     "data": {
      "text/plain": [
       "<Figure size 640x480 with 0 Axes>"
      ]
     },
     "metadata": {},
     "output_type": "display_data"
    }
   ],
   "source": [
    "# For simple attention gates \n",
    "\n",
    "import matplotlib.pyplot as plt\n",
    "import numpy as np\n",
    "import scipy.stats\n",
    "\n",
    "head_gates = np.load('plots/raw/actor_head_gates_simple.npy', allow_pickle=True)\n",
    "\n",
    "means, sems = calculate_mean_sem(head_gates, axis=0)\n",
    "lower_bounds, upper_bounds = calculate_confidence_interval(means, sems, confidence_level=0.3)\n",
    "epochs = np.arange(means.shape[0])\n",
    "\n",
    "clip = 50\n",
    "plt.clf()\n",
    "plt.figure(figsize=(8, 3))\n",
    "\n",
    "# '#c7ffd8', \n",
    "colors = ['#95e1d3', '#f0c38e', '#6E85B2', '#f38181']\n",
    "\n",
    "for i in range(means.shape[1]):\n",
    "    plt.plot(epochs[:clip], means[:clip, i], label=f'Gate {i}', color=colors[i])\n",
    "    plt.fill_between(epochs[:clip], lower_bounds[:clip, i], upper_bounds[:clip, i], alpha=0.15, color=colors[i])\n",
    "    # break\n",
    "plt.legend()\n",
    "plt.tight_layout()\n",
    "# plt.show()\n",
    "plt.savefig(f'./plots/actor/attention_gate_simple.png', dpi=300)\n",
    "plt.close()\n"
   ]
  },
  {
   "cell_type": "code",
   "execution_count": 13,
   "metadata": {},
   "outputs": [
    {
     "name": "stdout",
     "output_type": "stream",
     "text": [
      "(3, 100, 4)\n"
     ]
    },
    {
     "data": {
      "text/plain": [
       "<Figure size 640x480 with 0 Axes>"
      ]
     },
     "metadata": {},
     "output_type": "display_data"
    }
   ],
   "source": [
    "# For linear attention gates \n",
    "\n",
    "import matplotlib.pyplot as plt\n",
    "import numpy as np\n",
    "import scipy.stats\n",
    "\n",
    "head_gates = np.load('plots/raw/actor_head_gates.npy', allow_pickle=True)\n",
    "\n",
    "tgt_node = 0\n",
    "tgt_token = 0\n",
    "\n",
    "data = head_gates[:, :, tgt_node, tgt_token, :]\n",
    "\n",
    "means, sems = calculate_mean_sem(data, axis=0)\n",
    "lower_bounds, upper_bounds = calculate_confidence_interval(means, sems, confidence_level=0.3)\n",
    "\n",
    "print(data.shape)\n",
    "\n",
    "\n",
    "epochs = np.arange(100)\n",
    "\n",
    "clip = 50\n",
    "plt.clf()\n",
    "plt.figure(figsize=(8, 3))\n",
    "colors = ['#95e1d3', '#f0c38e', '#6E85B2', '#f38181']\n",
    "for i in range(data.shape[-1]):\n",
    "    plt.plot(epochs[:clip], means[:clip, i], label=f'Gate {i}', color=colors[i])\n",
    "    plt.fill_between(epochs[:clip], lower_bounds[:clip, i], upper_bounds[:clip, i], alpha=0.15, color=colors[i])\n",
    "    # break\n",
    "plt.legend()\n",
    "plt.tight_layout()\n",
    "# plt.show()\n",
    "plt.savefig(f'./plots/actor/attention_gate_linear.png', dpi=300)\n",
    "plt.close()\n"
   ]
  }
 ],
 "metadata": {
  "kernelspec": {
   "display_name": "cq",
   "language": "python",
   "name": "python3"
  },
  "language_info": {
   "codemirror_mode": {
    "name": "ipython",
    "version": 3
   },
   "file_extension": ".py",
   "mimetype": "text/x-python",
   "name": "python",
   "nbconvert_exporter": "python",
   "pygments_lexer": "ipython3",
   "version": "3.8.10"
  }
 },
 "nbformat": 4,
 "nbformat_minor": 2
}
